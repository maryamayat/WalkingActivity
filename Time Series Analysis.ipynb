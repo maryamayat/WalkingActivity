{
 "cells": [
  {
   "cell_type": "markdown",
   "metadata": {},
   "source": [
    "# User Identification from Walking Activity\n",
    "\n",
    "In this problem, I am going to identify the user from the motion pattern of their walking activity."
   ]
  },
  {
   "cell_type": "code",
   "execution_count": 1,
   "metadata": {},
   "outputs": [],
   "source": [
    "import os\n",
    "import pandas as pd\n",
    "import numpy as np\n",
    "import random\n",
    "from sklearn.model_selection import train_test_split\n",
    "from sklearn.neighbors import KNeighborsClassifier\n",
    "import matplotlib.pyplot as plt"
   ]
  },
  {
   "cell_type": "markdown",
   "metadata": {},
   "source": [
    "## Dataset \n",
    "Accelerometer data (x,y,z) collected from 22 participants walking in the wild over a predefined path (i.e., 22 times series of unequal sizes): https://archive.ics.uci.edu/ml/datasets/User+Identification+From+Walking+Activity\n",
    "\n",
    "Let's look at the one of the participants:"
   ]
  },
  {
   "cell_type": "code",
   "execution_count": 2,
   "metadata": {},
   "outputs": [
    {
     "data": {
      "text/html": [
       "<div>\n",
       "<style scoped>\n",
       "    .dataframe tbody tr th:only-of-type {\n",
       "        vertical-align: middle;\n",
       "    }\n",
       "\n",
       "    .dataframe tbody tr th {\n",
       "        vertical-align: top;\n",
       "    }\n",
       "\n",
       "    .dataframe thead th {\n",
       "        text-align: right;\n",
       "    }\n",
       "</style>\n",
       "<table border=\"1\" class=\"dataframe\">\n",
       "  <thead>\n",
       "    <tr style=\"text-align: right;\">\n",
       "      <th></th>\n",
       "      <th>time-step</th>\n",
       "      <th>x</th>\n",
       "      <th>y</th>\n",
       "      <th>z</th>\n",
       "    </tr>\n",
       "  </thead>\n",
       "  <tbody>\n",
       "    <tr>\n",
       "      <td>0</td>\n",
       "      <td>0.000000</td>\n",
       "      <td>0.69464</td>\n",
       "      <td>3.17350</td>\n",
       "      <td>7.5048</td>\n",
       "    </tr>\n",
       "    <tr>\n",
       "      <td>1</td>\n",
       "      <td>0.030639</td>\n",
       "      <td>0.14982</td>\n",
       "      <td>3.48680</td>\n",
       "      <td>9.2755</td>\n",
       "    </tr>\n",
       "    <tr>\n",
       "      <td>2</td>\n",
       "      <td>0.069763</td>\n",
       "      <td>-0.29965</td>\n",
       "      <td>1.94770</td>\n",
       "      <td>9.1120</td>\n",
       "    </tr>\n",
       "    <tr>\n",
       "      <td>3</td>\n",
       "      <td>0.099823</td>\n",
       "      <td>-1.68890</td>\n",
       "      <td>1.41650</td>\n",
       "      <td>10.1200</td>\n",
       "    </tr>\n",
       "    <tr>\n",
       "      <td>4</td>\n",
       "      <td>0.129820</td>\n",
       "      <td>-2.17930</td>\n",
       "      <td>0.95342</td>\n",
       "      <td>10.9240</td>\n",
       "    </tr>\n",
       "  </tbody>\n",
       "</table>\n",
       "</div>"
      ],
      "text/plain": [
       "   time-step        x        y        z\n",
       "0   0.000000  0.69464  3.17350   7.5048\n",
       "1   0.030639  0.14982  3.48680   9.2755\n",
       "2   0.069763 -0.29965  1.94770   9.1120\n",
       "3   0.099823 -1.68890  1.41650  10.1200\n",
       "4   0.129820 -2.17930  0.95342  10.9240"
      ]
     },
     "execution_count": 2,
     "metadata": {},
     "output_type": "execute_result"
    }
   ],
   "source": [
    "path = os.getcwd()+'/users/'\n",
    "user1_df = pd.read_csv(path+\"1.csv\", header=None)\n",
    "user1_df.columns = ['time-step','x','y','z']\n",
    "user1_df.head()"
   ]
  },
  {
   "cell_type": "markdown",
   "metadata": {},
   "source": [
    "## Method\n",
    "For this problem, I used **K-Nearest-Neighbors** as follows:\n",
    "\n",
    "For each user, I randomly retrieve M (e.g., 10) equal sized segments of the user’s time series. A segment = one-tenth of the time that the user took to walk the path. For instance, if a user needs 154 minutes to walk the path, then we will retrieve segments of 15.4 minutes from the time series.\n",
    "\n",
    "Also, I convert the users’ segments to features vectors. I use mean and standard deviation of accelerations in each of three dimensions, as features. Therefore, a sample has a label (user#) and a feature vector with 6 features. In total, I collect M*22 data samples (220 samples)."
   ]
  },
  {
   "cell_type": "code",
   "execution_count": 3,
   "metadata": {},
   "outputs": [],
   "source": [
    "# Retrieve 10 (i.e., nsp) samples for each users and save in samples_df\n",
    "# A sample is a random duration (i.e., [a, b]) of a user's walking activity.\n",
    "# Duration (i.e., d) = one-tenth of the time that the user took to walk the path\n",
    "#\n",
    "samples_df = pd.DataFrame(columns=['user','x_mean','y_mean','z_mean','x_std','y_std','z_std'])\n",
    "samples_count = 0\n",
    "n_users = 22\n",
    "nsp = 10 # number of samples per user\n",
    "random.seed(3)\n",
    "for i in range(1,n_users+1):\n",
    "    df = pd.read_csv(path+str(i)+\".csv\", header=None)\n",
    "    df.columns = ['time-step','x','y','z']\n",
    "    nsamples = df.shape[0]\n",
    "    d = df.tail(1).iloc[0,0]/10.0\n",
    "    count = 0\n",
    "    while (count < nsp):\n",
    "         a = random.randint(0, nsamples)\n",
    "         to_time = df.loc[a,'time-step'] + d\n",
    "         if (to_time <= df.tail(1).iloc[0,0]):\n",
    "            b = df[df['time-step']>=to_time].index[0]\n",
    "            segment = df[a:b+1]\n",
    "            s = [i,\n",
    "                 segment['x'].mean(), segment['y'].mean(), segment['z'].mean(),\n",
    "                 segment['x'].std(), segment['y'].std(), segment['z'].std()]\n",
    "            samples_df.loc[samples_count] = s\n",
    "            samples_count = samples_count + 1\n",
    "            count = count + 1\n",
    "samples_df.to_csv(path+\"samples.csv\", index=None)"
   ]
  },
  {
   "cell_type": "markdown",
   "metadata": {},
   "source": [
    "Let's look at the retrieved segments:"
   ]
  },
  {
   "cell_type": "code",
   "execution_count": 4,
   "metadata": {},
   "outputs": [
    {
     "data": {
      "text/html": [
       "<div>\n",
       "<style scoped>\n",
       "    .dataframe tbody tr th:only-of-type {\n",
       "        vertical-align: middle;\n",
       "    }\n",
       "\n",
       "    .dataframe tbody tr th {\n",
       "        vertical-align: top;\n",
       "    }\n",
       "\n",
       "    .dataframe thead th {\n",
       "        text-align: right;\n",
       "    }\n",
       "</style>\n",
       "<table border=\"1\" class=\"dataframe\">\n",
       "  <thead>\n",
       "    <tr style=\"text-align: right;\">\n",
       "      <th></th>\n",
       "      <th>user</th>\n",
       "      <th>x_mean</th>\n",
       "      <th>y_mean</th>\n",
       "      <th>z_mean</th>\n",
       "      <th>x_std</th>\n",
       "      <th>y_std</th>\n",
       "      <th>z_std</th>\n",
       "    </tr>\n",
       "  </thead>\n",
       "  <tbody>\n",
       "    <tr>\n",
       "      <td>0</td>\n",
       "      <td>1.0</td>\n",
       "      <td>-4.040429</td>\n",
       "      <td>8.775378</td>\n",
       "      <td>-1.555742</td>\n",
       "      <td>2.199474</td>\n",
       "      <td>3.035572</td>\n",
       "      <td>1.746394</td>\n",
       "    </tr>\n",
       "    <tr>\n",
       "      <td>1</td>\n",
       "      <td>1.0</td>\n",
       "      <td>-2.446141</td>\n",
       "      <td>7.927374</td>\n",
       "      <td>0.330240</td>\n",
       "      <td>2.975964</td>\n",
       "      <td>2.401700</td>\n",
       "      <td>4.288818</td>\n",
       "    </tr>\n",
       "    <tr>\n",
       "      <td>2</td>\n",
       "      <td>1.0</td>\n",
       "      <td>-4.076140</td>\n",
       "      <td>8.795578</td>\n",
       "      <td>-1.514455</td>\n",
       "      <td>2.286083</td>\n",
       "      <td>3.038374</td>\n",
       "      <td>1.800439</td>\n",
       "    </tr>\n",
       "    <tr>\n",
       "      <td>3</td>\n",
       "      <td>1.0</td>\n",
       "      <td>-4.508972</td>\n",
       "      <td>8.587025</td>\n",
       "      <td>-1.581713</td>\n",
       "      <td>2.234140</td>\n",
       "      <td>2.972619</td>\n",
       "      <td>1.638934</td>\n",
       "    </tr>\n",
       "    <tr>\n",
       "      <td>4</td>\n",
       "      <td>1.0</td>\n",
       "      <td>-4.321950</td>\n",
       "      <td>8.657268</td>\n",
       "      <td>-1.596341</td>\n",
       "      <td>2.339181</td>\n",
       "      <td>3.266040</td>\n",
       "      <td>1.740649</td>\n",
       "    </tr>\n",
       "  </tbody>\n",
       "</table>\n",
       "</div>"
      ],
      "text/plain": [
       "   user    x_mean    y_mean    z_mean     x_std     y_std     z_std\n",
       "0   1.0 -4.040429  8.775378 -1.555742  2.199474  3.035572  1.746394\n",
       "1   1.0 -2.446141  7.927374  0.330240  2.975964  2.401700  4.288818\n",
       "2   1.0 -4.076140  8.795578 -1.514455  2.286083  3.038374  1.800439\n",
       "3   1.0 -4.508972  8.587025 -1.581713  2.234140  2.972619  1.638934\n",
       "4   1.0 -4.321950  8.657268 -1.596341  2.339181  3.266040  1.740649"
      ]
     },
     "execution_count": 4,
     "metadata": {},
     "output_type": "execute_result"
    }
   ],
   "source": [
    "samples_df.head()"
   ]
  },
  {
   "cell_type": "code",
   "execution_count": 5,
   "metadata": {},
   "outputs": [
    {
     "data": {
      "text/plain": [
       "220"
      ]
     },
     "execution_count": 5,
     "metadata": {},
     "output_type": "execute_result"
    }
   ],
   "source": [
    "samples_df.shape[0]"
   ]
  },
  {
   "cell_type": "markdown",
   "metadata": {},
   "source": [
    "To get a sense how the extracted features are useful, some 2D visualizations of samples for four random users shown below."
   ]
  },
  {
   "cell_type": "code",
   "execution_count": 6,
   "metadata": {},
   "outputs": [
    {
     "data": {
      "image/png": "[encoded data removed]",
      "text/plain": [
       "<Figure size 432x288 with 1 Axes>"
      ]
     },
     "metadata": {
      "needs_background": "light"
     },
     "output_type": "display_data"
    }
   ],
   "source": [
    "users = random.sample(range(1,23), 4)\n",
    "ulabels = [(\"User \"+ str(users[i])) for i in range(0,4)]\n",
    "colors = (\"red\", \"green\", \"blue\", \"orange\")\n",
    "for user, color in zip(users, colors):\n",
    "    xdata = samples_df[samples_df['user']==user]['x_std']\n",
    "    ydata = samples_df[samples_df['user']==user]['z_std']\n",
    "    plt.scatter(x=xdata, y=ydata, color=color)\n",
    "plt.xlabel(\"x_std\")\n",
    "plt.ylabel(\"z_std\")\n",
    "plt.title(\"x_std vs. z_std\")\n",
    "plt.legend(labels=ulabels)\n",
    "plt.show()"
   ]
  },
  {
   "cell_type": "code",
   "execution_count": 7,
   "metadata": {},
   "outputs": [
    {
     "data": {
      "image/png": "[encoded data removed]",
      "text/plain": [
       "<Figure size 432x288 with 1 Axes>"
      ]
     },
     "metadata": {
      "needs_background": "light"
     },
     "output_type": "display_data"
    }
   ],
   "source": [
    "for user, color in zip(users, colors):\n",
    "    xdata = samples_df[samples_df['user']==user]['x_mean']\n",
    "    ydata = samples_df[samples_df['user']==user]['z_mean']\n",
    "    plt.scatter(x=xdata, y=ydata, color=color)\n",
    "plt.xlabel(\"x_mean\")\n",
    "plt.ylabel(\"z_mean\")\n",
    "plt.title(\"x_acceleration_mean vs. z_acceleration_mean\")\n",
    "plt.legend(labels=ulabels)\n",
    "plt.show()"
   ]
  },
  {
   "cell_type": "code",
   "execution_count": 8,
   "metadata": {},
   "outputs": [
    {
     "data": {
      "image/png": "[encoded data removed]",
      "text/plain": [
       "<Figure size 432x288 with 1 Axes>"
      ]
     },
     "metadata": {
      "needs_background": "light"
     },
     "output_type": "display_data"
    }
   ],
   "source": [
    "for user, color in zip(users, colors):\n",
    "    xdata = samples_df[samples_df['user']==user]['x_mean']\n",
    "    ydata = samples_df[samples_df['user']==user]['y_mean']\n",
    "    plt.scatter(x=xdata, y=ydata, color=color)\n",
    "plt.xlabel(\"x_mean\")\n",
    "plt.ylabel(\"y_mean\")\n",
    "plt.title(\"x_acceleration_mean vs. y_acceleration_mean\")\n",
    "plt.legend(labels=ulabels)\n",
    "plt.show()"
   ]
  },
  {
   "cell_type": "markdown",
   "metadata": {},
   "source": [
    "We can visually recognize users' clusters in the above graphs. This indicates the usefulness of our extracted features."
   ]
  },
  {
   "cell_type": "markdown",
   "metadata": {},
   "source": [
    "Now, I split the samples into train (80%) and test (20%) data."
   ]
  },
  {
   "cell_type": "code",
   "execution_count": 9,
   "metadata": {},
   "outputs": [],
   "source": [
    "X_train, X_test, y_train, y_test = train_test_split(samples_df.iloc[:,1:7], samples_df.iloc[:,0], test_size=0.20, random_state=3)"
   ]
  },
  {
   "cell_type": "markdown",
   "metadata": {},
   "source": [
    "Then, I train a KNN (with k=3) with the training samples."
   ]
  },
  {
   "cell_type": "code",
   "execution_count": 10,
   "metadata": {},
   "outputs": [
    {
     "data": {
      "text/plain": [
       "KNeighborsClassifier(algorithm='auto', leaf_size=30, metric='minkowski',\n",
       "                     metric_params=None, n_jobs=None, n_neighbors=3, p=2,\n",
       "                     weights='uniform')"
      ]
     },
     "execution_count": 10,
     "metadata": {},
     "output_type": "execute_result"
    }
   ],
   "source": [
    "myKNN = KNeighborsClassifier(n_neighbors = 3)\n",
    "myKNN.fit(X_train, y_train)"
   ]
  },
  {
   "cell_type": "markdown",
   "metadata": {},
   "source": [
    "Let's see how our KNN classifier performs on the test data, given the current random number generator setting."
   ]
  },
  {
   "cell_type": "code",
   "execution_count": 11,
   "metadata": {},
   "outputs": [
    {
     "name": "stdout",
     "output_type": "stream",
     "text": [
      "this_success_rate = 75.00 percent\n"
     ]
    }
   ],
   "source": [
    "success_rate = np.count_nonzero(myKNN.predict(X_test) == y_test.values)/float(y_test.shape[0])\n",
    "print('this_success_rate = %5.2f percent'%(success_rate*100))"
   ]
  },
  {
   "cell_type": "markdown",
   "metadata": {},
   "source": [
    "Okay, this sucess rate is not bad at all. However, it is good to think for any possible improvement using the same method."
   ]
  },
  {
   "cell_type": "markdown",
   "metadata": {},
   "source": [
    "## How to improve this method?\n",
    "\n",
    "1- To get a more reliable accuracy, we can repeat the process several times with different random seeds. The average of the success rates can be used as performance measure.\n",
    "\n",
    "2- It looks that KNN with k=3 gives promising results for this problem. However, we also can use cross-validation to tune the parameter k.\n",
    "\n",
    "3- We can change the definition of the segments for each user (i.e., increase or decrease the duration).\n",
    "\n",
    "4- We can add other features to feature vectors.\n",
    "\n",
    "5- We can use segments of time series directly in KNN (versus converting the segments to feature vectors).\n",
    "\n",
    "## What business values are there in such data sets?\n",
    "\n",
    "1- Recognizing if a phone has been stolen by a change in the walking pattern of the owner.\n",
    "\n",
    "2- Using running/walking patterns to improve AI-based rehabilitation for disabled persons on different surfaces.\n",
    "\n",
    "3- Categorizing gait disorders as a guide for therapeutic interventions (see https://www.ncbi.nlm.nih.gov/pmc/articles/PMC5318488/).\n",
    "\n",
    "## What would you like to see added as data points to create more value?\n",
    "Information about users’ gender and age."
   ]
  }
 ],
 "metadata": {
  "kernelspec": {
   "display_name": "Python 3",
   "language": "python",
   "name": "python3"
  },
  "language_info": {
   "codemirror_mode": {
    "name": "ipython",
    "version": 3
   },
   "file_extension": ".py",
   "mimetype": "text/x-python",
   "name": "python",
   "nbconvert_exporter": "python",
   "pygments_lexer": "ipython3",
   "version": "3.7.4"
  }
 },
 "nbformat": 4,
 "nbformat_minor": 2
}
